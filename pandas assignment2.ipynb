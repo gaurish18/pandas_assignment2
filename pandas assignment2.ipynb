{
 "cells": [
  {
   "cell_type": "markdown",
   "id": "a13f610a-1cd0-4255-8b50-e451bb69a582",
   "metadata": {},
   "source": [
    "Q1. List any five functions of the pandas library with execution."
   ]
  },
  {
   "cell_type": "markdown",
   "id": "2e38486e-dca5-4bdb-a880-455745111ea6",
   "metadata": {},
   "source": [
    "Ans-1. pandas.read_csv(): This function is used to read data from a CSV file and create a DataFrame."
   ]
  },
  {
   "cell_type": "code",
   "execution_count": 1,
   "id": "ee1aff4e-bd56-46e2-ba57-54409aee737b",
   "metadata": {},
   "outputs": [],
   "source": [
    "import pandas as pd"
   ]
  },
  {
   "cell_type": "markdown",
   "id": "e8f4ecf8-1d26-48a7-894c-07440ced96de",
   "metadata": {},
   "source": [
    "# Read CSV file into a DataFrame\n",
    "data = pd.read_csv('data.csv')\n",
    "\n",
    "print(data.head())"
   ]
  },
  {
   "cell_type": "markdown",
   "id": "b3b4b968-59d4-473e-9f62-5fde56620fd0",
   "metadata": {},
   "source": [
    "2.pandas.DataFrame(): This function is used to create a DataFrame from various data sources, such as lists, dictionaries, or NumPy arrays."
   ]
  },
  {
   "cell_type": "markdown",
   "id": "1e1550f8-91e6-4e62-9bd3-ec6defbe479b",
   "metadata": {},
   "source": [
    "\n",
    "# Create a DataFrame from a dictionary\n",
    "data = {'Name': ['Alice', 'Bob', 'Charlie'],\n",
    "        'Age': [25, 30, 22]}\n",
    "        \n",
    "df = pd.DataFrame(data)\n",
    "\n",
    "print(df)\n"
   ]
  },
  {
   "cell_type": "markdown",
   "id": "4b99f18e-c204-4537-8fce-7ee208988115",
   "metadata": {},
   "source": [
    "3.pandas.DataFrame.groupby(): This function is used to group rows of a DataFrame based on one or more columns."
   ]
  },
  {
   "cell_type": "markdown",
   "id": "6ef37065-87aa-4f43-b2dd-6a75b354f7a0",
   "metadata": {},
   "source": [
    "\n",
    "# Grouping data by 'Category' column\n",
    "grouped = df.groupby('Category')\n",
    "\n",
    "for name, group in grouped:\n",
    "\n",
    "    print(f\"Group: {name}\")\n",
    "    \n",
    "    print(group)"
   ]
  },
  {
   "cell_type": "markdown",
   "id": "f2e587c9-3b3a-43f2-84cf-2510265ee49c",
   "metadata": {},
   "source": [
    "4.pandas.DataFrame.merge(): This function is used to merge two DataFrames based on a common column or index."
   ]
  },
  {
   "cell_type": "markdown",
   "id": "4d28384c-d999-4414-8bb2-afae582786d6",
   "metadata": {},
   "source": [
    "\n",
    "# Merging two DataFrames based on 'ID' column\n",
    "merged_df = pd.merge(df1, df2, on='ID')\n",
    "\n",
    "print(merged_df)\n"
   ]
  },
  {
   "cell_type": "markdown",
   "id": "60b23ce6-f69e-459d-a7b6-d284ac39bd7c",
   "metadata": {},
   "source": [
    "5.pandas.DataFrame.to_csv(): This function is used to save a DataFrame to a CSV file."
   ]
  },
  {
   "cell_type": "markdown",
   "id": "1e139e50-405b-4bd4-88a7-69786528c0a1",
   "metadata": {},
   "source": [
    "\n",
    "# Save DataFrame to a CSV file\n",
    "df.to_csv('output.csv', index=False)"
   ]
  },
  {
   "cell_type": "markdown",
   "id": "b5b6bf83-5dfb-4140-ab9a-5184138cdaec",
   "metadata": {},
   "source": [
    "Q2. Given a Pandas DataFrame df with columns 'A', 'B', and 'C', write a Python function to re-index the\n",
    "DataFrame with a new index that starts from 1 and increments by 2 for each row."
   ]
  },
  {
   "cell_type": "code",
   "execution_count": 3,
   "id": "9aac70d5-dd72-4164-9ed0-f56984d6e7f5",
   "metadata": {},
   "outputs": [],
   "source": [
    "import pandas as pd\n"
   ]
  },
  {
   "cell_type": "code",
   "execution_count": 11,
   "id": "4d474329-2dfd-460a-9dd8-72186e07f7c9",
   "metadata": {},
   "outputs": [],
   "source": [
    "def reindex_with_increment(df):\n",
    "    new_index = range(1, len(df) * 2 + 1, 2) \n",
    "    df_reindexed = df.copy() \n",
    "    df_reindexed.index = new_index\n",
    "    return df_reindexed\n"
   ]
  },
  {
   "cell_type": "code",
   "execution_count": 12,
   "id": "5a204c3b-b957-4cb1-872b-edc7eefa12b2",
   "metadata": {},
   "outputs": [],
   "source": [
    "# Sample DataFrame\n",
    "data = {'A': [10, 20, 30],\n",
    "        'B': [40, 50, 60],\n",
    "        'C': [70, 80, 90]}\n",
    "df = pd.DataFrame(data)"
   ]
  },
  {
   "cell_type": "code",
   "execution_count": 13,
   "id": "5a2502f2-63df-4977-a22f-fdf1cc3f0972",
   "metadata": {},
   "outputs": [
    {
     "name": "stdout",
     "output_type": "stream",
     "text": [
      "    A   B   C\n",
      "1  10  40  70\n",
      "3  20  50  80\n",
      "5  30  60  90\n"
     ]
    }
   ],
   "source": [
    "# Re-index the DataFrame\n",
    "df_reindexed = reindex_with_increment(df)\n",
    "\n",
    "print(df_reindexed)"
   ]
  },
  {
   "cell_type": "markdown",
   "id": "4ea614aa-3623-4a49-a774-ce80a50d8d6b",
   "metadata": {},
   "source": [
    "Q3. You have a Pandas DataFrame df with a column named 'Values'. Write a Python function that\n",
    "iterates over the DataFrame and calculates the sum of the first three values in the 'Values' column. The\n",
    "function should print the sum to the console.\n",
    "For example, if the 'Values' column of df contains the values [10, 20, 30, 40, 50], your function should\n",
    "calculate and print the sum of the first three values, which is 60."
   ]
  },
  {
   "cell_type": "code",
   "execution_count": 14,
   "id": "2deeb8a9-a4f9-4416-b83d-04f6fe4041d5",
   "metadata": {},
   "outputs": [],
   "source": [
    "def calculate_sum_of_first_three(df):\n",
    "    values_column = df['Values']\n",
    "    first_three_values = values_column.head(3)  \n",
    "    sum_first_three = first_three_values.sum()  \n",
    "    print(\"Sum of the first three values:\", sum_first_three)"
   ]
  },
  {
   "cell_type": "code",
   "execution_count": 15,
   "id": "95a38aeb-dc3a-4007-a2cc-38141711b2ba",
   "metadata": {},
   "outputs": [],
   "source": [
    "data = {'Values': [10, 20, 30, 40, 50]}\n",
    "df = pd.DataFrame(data)\n"
   ]
  },
  {
   "cell_type": "code",
   "execution_count": 16,
   "id": "f27395aa-39a3-487b-af86-46099fb67caf",
   "metadata": {},
   "outputs": [
    {
     "name": "stdout",
     "output_type": "stream",
     "text": [
      "Sum of the first three values: 60\n"
     ]
    }
   ],
   "source": [
    "calculate_sum_of_first_three(df)"
   ]
  },
  {
   "cell_type": "markdown",
   "id": "4a5147ff-8f1b-4d69-bf87-4db80ab66cae",
   "metadata": {},
   "source": [
    "Q4. Given a Pandas DataFrame df with a column 'Text', write a Python function to create a new column\n",
    "'Word_Count' that contains the number of words in each row of the 'Text' column."
   ]
  },
  {
   "cell_type": "code",
   "execution_count": 17,
   "id": "bf14bb12-e8b5-46e2-9b15-c79828a18a72",
   "metadata": {},
   "outputs": [],
   "source": [
    "import pandas as pd\n",
    "import re\n"
   ]
  },
  {
   "cell_type": "code",
   "execution_count": 18,
   "id": "6d3d0f99-41fb-48ca-a0b1-a37e39979d62",
   "metadata": {},
   "outputs": [],
   "source": [
    "def count_words(text):\n",
    "    words = re.findall(r'\\w+', text)\n",
    "    return len(words)"
   ]
  },
  {
   "cell_type": "code",
   "execution_count": 19,
   "id": "8698c3c3-fdeb-454a-b10f-4110144295fc",
   "metadata": {},
   "outputs": [],
   "source": [
    "def add_word_count_column(df):\n",
    "    df['Word_Count'] = df['Text'].apply(count_words)"
   ]
  },
  {
   "cell_type": "code",
   "execution_count": 20,
   "id": "c4d90840-a3b6-49c1-be32-6fc71390799c",
   "metadata": {},
   "outputs": [],
   "source": [
    "data = {'Text': [\"Hello, this is a sample text.\", \"Python programming is fun!\", \"Data analysis using Pandas and NumPy.\"]}\n",
    "df = pd.DataFrame(data)"
   ]
  },
  {
   "cell_type": "code",
   "execution_count": 21,
   "id": "40c0dcec-22e5-4720-ae81-b715c8c778e5",
   "metadata": {},
   "outputs": [
    {
     "name": "stdout",
     "output_type": "stream",
     "text": [
      "                                    Text  Word_Count\n",
      "0          Hello, this is a sample text.           6\n",
      "1             Python programming is fun!           4\n",
      "2  Data analysis using Pandas and NumPy.           6\n"
     ]
    }
   ],
   "source": [
    "add_word_count_column(df)\n",
    "print(df)"
   ]
  },
  {
   "cell_type": "markdown",
   "id": "b2f5d4d7-e49f-4bac-a293-54f29dca14a6",
   "metadata": {},
   "source": [
    "Q5.How are DataFrame.size() and DataFrame.shape() different?"
   ]
  },
  {
   "cell_type": "markdown",
   "id": "055e3979-ccf0-4009-a4cf-3a5ca619eea1",
   "metadata": {},
   "source": [
    "Ans-DataFrame.size and DataFrame.shape are both attributes in Pandas DataFrames, but they provide different information about the structure of the DataFrame.\n",
    "\n",
    "DataFrame.size:\n",
    "\n",
    "DataFrame.size returns the total number of elements in the DataFrame, which is equal to the number of rows multiplied by the number of columns.\n",
    "It gives you the total count of cells, including empty cells or cells with missing values.\n",
    "The value returned by DataFrame.size is an integer.\n",
    "It's calculated as number of rows × number of columns.\n",
    "\n",
    "DataFrame.shape:\n",
    "\n",
    "DataFrame.shape returns a tuple representing the dimensions of the DataFrame.\n",
    "The tuple has two elements: the first element is the number of rows, and the second element is the number of columns.\n",
    "It provides a clearer overview of the structure of the DataFrame in terms of rows and columns.\n",
    "The values returned by DataFrame.shape are integers.\n",
    "It's represented as (number of rows, number of columns).\n",
    "Here's an example to illustrate the difference:\n"
   ]
  },
  {
   "cell_type": "markdown",
   "id": "4f7a3e2f-fe41-431f-9b2f-591772362f1f",
   "metadata": {},
   "source": [
    "Q6.Which function of pandas do we use to read an excel file?"
   ]
  },
  {
   "cell_type": "markdown",
   "id": "b7f937d5-c8f9-48a8-9614-996d0ba5c2da",
   "metadata": {},
   "source": [
    "Ans-In Pandas, you can use the pd.read_excel() function to read data from an Excel file. This function allows you to read Excel files and create a DataFrame from the data contained within the Excel file."
   ]
  },
  {
   "cell_type": "markdown",
   "id": "5cc22f55-6a17-4693-8fab-a5e6f92eb069",
   "metadata": {},
   "source": [
    "Q7. You have a Pandas DataFrame df that contains a column named 'Email' that contains email\n",
    "addresses in the format 'username@domain.com'. Write a Python function that creates a new column\n",
    "'Username' in df that contains only the username part of each email address.\n",
    "The username is the part of the email address that appears before the '@' symbol. For example, if the\n",
    "email address is 'john.doe@example.com', the 'Username' column should contain 'john.doe'. Your\n",
    "function should extract the username from each email address and store it in the new 'Username'\n",
    "column."
   ]
  },
  {
   "cell_type": "code",
   "execution_count": 22,
   "id": "6d8a7e6f-f51a-4382-b67a-fa426697235b",
   "metadata": {},
   "outputs": [],
   "source": [
    "data = {'Email': ['john.doe@example.com', 'jane.smith@example.com', 'alice.wonder@example.com']}\n",
    "df = pd.DataFrame(data)"
   ]
  },
  {
   "cell_type": "code",
   "execution_count": 23,
   "id": "739f9ec7-b965-44e1-a7ec-986844212153",
   "metadata": {},
   "outputs": [],
   "source": [
    "# Function to extract username from email\n",
    "def extract_username(email):\n",
    "    return email.split('@')[0]"
   ]
  },
  {
   "cell_type": "code",
   "execution_count": 24,
   "id": "53789523-dc31-4012-9d8e-0522eac018c2",
   "metadata": {},
   "outputs": [],
   "source": [
    "# Apply the function to create the 'Username' column\n",
    "df['Username'] = df['Email'].apply(extract_username)"
   ]
  },
  {
   "cell_type": "code",
   "execution_count": 25,
   "id": "19e0232c-aa11-4a36-8518-26e16386e34d",
   "metadata": {},
   "outputs": [
    {
     "name": "stdout",
     "output_type": "stream",
     "text": [
      "                      Email      Username\n",
      "0      john.doe@example.com      john.doe\n",
      "1    jane.smith@example.com    jane.smith\n",
      "2  alice.wonder@example.com  alice.wonder\n"
     ]
    }
   ],
   "source": [
    "print(df)"
   ]
  },
  {
   "cell_type": "markdown",
   "id": "7b89b3e2-1230-4665-92bf-90291fbf1c80",
   "metadata": {},
   "source": [
    "Q8. You have a Pandas DataFrame df with columns 'A', 'B', and 'C'. Write a Python function that selects\n",
    "all rows where the value in column 'A' is greater than 5 and the value in column 'B' is less than 10. The\n",
    "function should return a new DataFrame that contains only the selected rows.\n",
    "For example, if df contains the following values:"
   ]
  },
  {
   "cell_type": "markdown",
   "id": "099288a9-9504-4fd5-9b4c-82f38abcbfa1",
   "metadata": {},
   "source": [
    "   A  B  C\n",
    "0  3  5  1\n",
    "1  8  2  7\n",
    "2  6  9  4\n",
    "3 2  3  5\n",
    "4 9  1  2\n",
    "\n",
    "Your function should select the following rows: A  B  C\n",
    "1  8  2  7\n",
    "\n",
    "4  9  1  2\n"
   ]
  },
  {
   "cell_type": "code",
   "execution_count": null,
   "id": "edfcea19-2075-424e-ba67-14d11ded6180",
   "metadata": {},
   "outputs": [],
   "source": []
  }
 ],
 "metadata": {
  "kernelspec": {
   "display_name": "Python 3 (ipykernel)",
   "language": "python",
   "name": "python3"
  },
  "language_info": {
   "codemirror_mode": {
    "name": "ipython",
    "version": 3
   },
   "file_extension": ".py",
   "mimetype": "text/x-python",
   "name": "python",
   "nbconvert_exporter": "python",
   "pygments_lexer": "ipython3",
   "version": "3.10.8"
  }
 },
 "nbformat": 4,
 "nbformat_minor": 5
}
